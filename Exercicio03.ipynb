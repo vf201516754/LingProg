{
 "cells": [
  {
   "cell_type": "markdown",
   "metadata": {},
   "source": [
    "1 - Faça um Programa que peça dois números e imprima o maior deles."
   ]
  },
  {
   "cell_type": "code",
   "execution_count": 9,
   "metadata": {},
   "outputs": [
    {
     "name": "stdout",
     "output_type": "stream",
     "text": [
      "Insira o primeiro número?1 \n",
      "Insira o segundo número?2\n",
      "2\n"
     ]
    }
   ],
   "source": [
    "numero1 = input (\"Insira o primeiro número?\")\n",
    "numero2 = input (\"Insira o segundo número?\")\n",
    "\n",
    "if numero1 > numero2:\n",
    "    print (\"O maior número é \" + numero1 + \"!\")\n",
    "elif numero1 == numero2:\n",
    "    print (\"Os dois numero são iguais\")\n",
    "else: \n",
    "    print(numero2)"
   ]
  },
  {
   "cell_type": "markdown",
   "metadata": {},
   "source": [
    "2 -Faça um Programa que verifique se uma letra digitada é vogal ou consoante."
   ]
  },
  {
   "cell_type": "code",
   "execution_count": 20,
   "metadata": {},
   "outputs": [
    {
     "name": "stdout",
     "output_type": "stream",
     "text": [
      "Insira uma letra s\n",
      "Consoantes\n"
     ]
    }
   ],
   "source": [
    "lt = input (\"Insira uma letra \")\n",
    "\n",
    "if lt == 'a' or lt == 'e' or lt == 'i' or lt == 'o' or lt == 'u':\n",
    "    print(\"Vogais\")\n",
    "elif lt == 'q' or lt == 'w' or lt == 'r' or lt == 't' or lt == 'y' or lt == 'p' or lt == 's' or lt == 'd' or lt == 'f' or lt == 'g' or lt == 'h' or lt == 'j' or lt == 'k' or lt == 'l' or lt == 'ç' or lt == 'z' or lt == 'c' or lt == 'v' or lt == 'b' or lt == 'n' or lt == 'm':\n",
    "    print(\"Consoantes\")\n",
    "else:\n",
    "    print(\"Outros caracteres\")"
   ]
  },
  {
   "cell_type": "markdown",
   "metadata": {},
   "source": [
    "3 - Faça um programa para a leitura de duas notas parciais de um aluno. O programa\n",
    "deve calcular a média alcançada por aluno e apresentar:\n",
    "- A mensagem \"Aprovado\", se a média alcançada for maior ou igual a sete;\n",
    "- A mensagem \"Reprovado\", se a média for menor do que sete;\n",
    "- A mensagem \"Aprovado com Distinção\", se a média for igual a dez."
   ]
  },
  {
   "cell_type": "code",
   "execution_count": 33,
   "metadata": {},
   "outputs": [
    {
     "name": "stdout",
     "output_type": "stream",
     "text": [
      "Digite a segunda nota: 10\n",
      "Digite a sesgunda nota: 2\n",
      "reprovado\n"
     ]
    }
   ],
   "source": [
    "x = int(input('Digite a segunda nota: '))\n",
    "y = int(input('Digite a sesgunda nota: '))\n",
    "\n",
    "media = (x + y) / 2\n",
    "if media >= 7:\n",
    "    print ('aprovado')\n",
    "elif media == 10:\n",
    "    print ('aprovado com distinção')\n",
    "else:\n",
    "    print ('reprovado')"
   ]
  },
  {
   "cell_type": "markdown",
   "metadata": {},
   "source": [
    "4 - Faça um Programa que leia três números e mostre-os em ordem decrescente."
   ]
  },
  {
   "cell_type": "code",
   "execution_count": 34,
   "metadata": {},
   "outputs": [
    {
     "name": "stdout",
     "output_type": "stream",
     "text": [
      "Digite um número: 2\n",
      "Digite um número: 4\n",
      "Digite um número: 1\n"
     ]
    },
    {
     "data": {
      "text/plain": [
       "[4, 2, 1]"
      ]
     },
     "execution_count": 34,
     "metadata": {},
     "output_type": "execute_result"
    }
   ],
   "source": [
    "x = int(input('Digite um número: '))\n",
    "y = int(input('Digite um número: '))\n",
    "z = int(input('Digite um número: '))\n",
    "\n",
    "lista = [x, y, z]\n",
    "sorted(lista, reverse=True)"
   ]
  },
  {
   "cell_type": "markdown",
   "metadata": {},
   "source": [
    "5 - As Organizações Tabajara resolveram dar um aumento de salário aos seus\n",
    "colaboradores e lhe contrataram para desenvolver o programa que calculará os\n",
    "reajustes.\n",
    "Faça um programa que recebe o salário de um colaborador e o reajuste segundo o\n",
    "seguinte critério, baseado no salário atual:\n",
    "- salários até R$ 280,00 (incluindo) : aumento de 20%\n",
    "- salários entre R$ 280,00 e R$ 700,00 : aumento de 15%\n",
    "- salários entre R$ 700,00 e R$ 1500,00 : aumento de 10%\n",
    "- salários de R$ 1500,00 em diante : aumento de 5% Após o aumento ser realizado,\n",
    "informe na tela:\n",
    "- o salário antes do reajuste;\n",
    "- o percentual de aumento aplicado;\n",
    "- o valor do aumento;\n",
    "- o novo salário, após o aumento."
   ]
  },
  {
   "cell_type": "code",
   "execution_count": 46,
   "metadata": {},
   "outputs": [
    {
     "name": "stdout",
     "output_type": "stream",
     "text": [
      "Digite o salário: 280\n",
      "Salário antes do reajuste: 280.0 \n",
      "Novo salário, após o aumento: 300.0 \n",
      "O percentual de aumento aplicado: 7.142857142857143 \n",
      "O valo do aumento 20\n"
     ]
    }
   ],
   "source": [
    "x = float(input('Digite o salário: '))\n",
    "\n",
    "if x <= 280.0:\n",
    "    y = x\n",
    "    w = 20\n",
    "    z = w * 100.0 / y\n",
    "    x += 20\n",
    "    print('Salário antes do reajuste:',y,\n",
    "          '\\nNovo salário, após o aumento:',x,\n",
    "         '\\nO percentual de aumento aplicado:',z,\n",
    "         '\\nO valo do aumento',w)\n",
    "    \n",
    "elif x > 280.0 and x <=700.0:\n",
    "    y = x\n",
    "    w = 15\n",
    "    z = w * 100.0 / y\n",
    "    x += 15\n",
    "    print('Salário antes do reajuste:',y,\n",
    "          '\\nNovo salário, após o aumento:',x,\n",
    "         '\\nO percentual de aumento aplicado:',z,\n",
    "         '\\nO valo do aumento',w)\n",
    "    \n",
    "elif x > 700.0 and x <= 1500.0:\n",
    "    y = x\n",
    "    w = 10\n",
    "    z = w * 100.0 / y\n",
    "    x += 10\n",
    "    print('Salário antes do reajuste:',y,\n",
    "          '\\nNovo salário, após o aumento:',x,\n",
    "         '\\nO percentual de aumento aplicado:',z,\n",
    "         '\\nO valo do aumento',w)\n",
    "    \n",
    "elif x > 1500:\n",
    "    y = x\n",
    "    porcentagem = int(5 / 100.0 * x)\n",
    "    w = porcentagem\n",
    "    z = 5.0\n",
    "    x += porcentagem\n",
    "    print('Salário antes do reajuste:',y,\n",
    "          '\\nNovo salário, após o aumento:',x,\n",
    "         '\\nO percentual de aumento aplicado:',z,\n",
    "         '\\nO valo do aumento',w)"
   ]
  },
  {
   "cell_type": "markdown",
   "metadata": {},
   "source": [
    "6 - Faça um Programa que leia um número e exiba o dia correspondente da semana.\n",
    "(1-Domingo, 2- Segunda, etc.), se digitar outro valor deve aparecer valor inválido."
   ]
  },
  {
   "cell_type": "code",
   "execution_count": 47,
   "metadata": {},
   "outputs": [
    {
     "name": "stdout",
     "output_type": "stream",
     "text": [
      "digite um número2\n",
      "Segunda-feira\n"
     ]
    }
   ],
   "source": [
    "x = int(input('digite um número'))\n",
    "\n",
    "if x == 1:\n",
    "    print('Domingo')\n",
    "elif x == 2:\n",
    "    print('Segunda-feira')\n",
    "elif x == 3:\n",
    "    print('Terça-feira')\n",
    "elif x == 4:\n",
    "    print('Quarda-feira')\n",
    "elif x == 5:\n",
    "    print('Quinta-feira')\n",
    "elif x == 6:\n",
    "    print('Sexta-feira')\n",
    "elif x == 7:\n",
    "    print('Sabado')\n",
    "else:\n",
    "    print('valor inválido')"
   ]
  },
  {
   "cell_type": "markdown",
   "metadata": {},
   "source": [
    "7 - Faça um programa que lê as duas notas parciais obtidas por um aluno numa\n",
    "disciplina ao longo de um semestre, e calcule a sua média. A atribuição de conceitos\n",
    "obedece à tabela abaixo:\n",
    "Média de Aproveitamento Conceito\n",
    "Entre 9.0 e 10.0 A\n",
    "Entre 7.5 e 9.0 B\n",
    "Entre 6.0 e 7.5 C\n",
    "Entre 4.0 e 6.0 D\n",
    "Entre 4.0 e zero E\n",
    "O algoritmo deve mostrar na tela as notas, a média, o conceito correspondente e a\n",
    "mensagem “APROVADO” se o conceito for A, B ou C ou “REPROVADO” se o conceito\n",
    "for D ou E."
   ]
  },
  {
   "cell_type": "code",
   "execution_count": 51,
   "metadata": {},
   "outputs": [
    {
     "name": "stdout",
     "output_type": "stream",
     "text": [
      "digite a primeira nota: 0\n",
      "digite a segunda nota: 4\n",
      "Nota 1: 0.0 \n",
      "Nota 2: 4.0 \n",
      "Media: 2.0 \n",
      "E \n",
      "REPROVADO\n"
     ]
    }
   ],
   "source": [
    "nota1 = float(input('digite a primeira nota: '))\n",
    "nota2 = float(input('digite a segunda nota: '))\n",
    "\n",
    "media = (nota1 + nota2) / 2\n",
    "\n",
    "if media >= 9.0 and media <= 10.0:\n",
    "    print('Nota 1:', nota1,\n",
    "         '\\nNota 2:', nota2,\n",
    "         '\\nMedia:', media,\n",
    "         '\\nA',\n",
    "         '\\nAPROVADO')\n",
    "    \n",
    "elif media >= 7.0 and media < 9.0:\n",
    "    print('Nota 1:', nota1,\n",
    "         '\\nNota 2:', nota2,\n",
    "         '\\nMedia:', media,\n",
    "         '\\nB',\n",
    "         '\\nAPROVADO')\n",
    "\n",
    "elif media >= 6.0 and media <= 7.5:\n",
    "    print('Nota 1:', nota1,\n",
    "         '\\nNota 2:', nota2,\n",
    "         '\\nMedia:', media,\n",
    "         '\\nC',\n",
    "         '\\nAPROVADO')\n",
    "    \n",
    "elif media >= 4.0 and media < 6.0:\n",
    "    print('Nota 1:', nota1,\n",
    "         '\\nNota 2:', nota2,\n",
    "         '\\nMedia:', media,\n",
    "         '\\nD',\n",
    "         '\\nreprovado')\n",
    "    \n",
    "elif media >= 0.0 and media < 4.0:\n",
    "    print('Nota 1:', nota1,\n",
    "         '\\nNota 2:', nota2,\n",
    "         '\\nMedia:', media,\n",
    "         '\\nE',\n",
    "         '\\nREPROVADO')"
   ]
  },
  {
   "cell_type": "markdown",
   "metadata": {},
   "source": [
    "8 - Faça um Programa que peça os 3 lados de um triângulo. O programa deverá\n",
    "informar se os valores podem ser um triângulo. Indique, caso os lados formem um\n",
    "triângulo, se o mesmo é: equilátero, isósceles ou escaleno.\n",
    "Dicas:\n",
    "- Três lados formam um triângulo quando a soma de quaisquer dois lados for maior\n",
    "que o terceiro;\n",
    "- Triângulo Equilátero: três lados iguais;\n",
    "- Triângulo Isósceles: quaisquer dois lados iguais;\n",
    "- Triângulo Escaleno: três lados diferentes;"
   ]
  },
  {
   "cell_type": "code",
   "execution_count": null,
   "metadata": {},
   "outputs": [],
   "source": [
    "a = float(input('lado 1: '))\n",
    "b = float(input('lado 2: '))\n",
    "c = float(input('lado 3: '))\n",
    "\n",
    "if not (a + b) > c and (a + c) > b and (b + c) > a:\n",
    "    print ('Os lados fornecidos não formam um triângulo')\n",
    "    \n",
    "elif a==b and a==c:\n",
    "    print('O triângulo é equilátero')\n",
    "    \n",
    "elif a!=b and a!=c and b!=c:\n",
    "    print('O triângulo é escaleno')\n",
    "    \n",
    "else:\n",
    "    print('O triângulo é isósceles')"
   ]
  },
  {
   "cell_type": "markdown",
   "metadata": {},
   "source": [
    "9 - Faça um programa que calcule as raízes de uma equação do segundo grau, na\n",
    "forma ax2 + bx + c. O programa deverá pedir os valores de a, b e c e fazer as\n",
    "consistências, informando ao usuário nas seguintes situações:\n",
    "- Se o usuário informar o valor de A igual a zero, a equação não é do segundo grau e\n",
    "o programa não deve fazer pedir os demais valores, sendo encerrado;\n",
    "- Se o delta calculado for negativo, a equação não possui raizes reais. Informe ao\n",
    "usuário e encerre o programa;\n",
    "- Se o delta calculado for igual a zero a equação possui apenas uma raiz real;\n",
    "informe-a ao usuário;\n",
    "- Se o delta for positivo, a equação possui duas raiz reais; informe-as ao usuário;"
   ]
  },
  {
   "cell_type": "code",
   "execution_count": 4,
   "metadata": {},
   "outputs": [
    {
     "name": "stdout",
     "output_type": "stream",
     "text": [
      "Digite o valor para A: 1\n",
      "Digite o valor para B: 3\n",
      "Digite o valor para C: 5\n",
      "A equação não possui raizes reais\n"
     ]
    }
   ],
   "source": [
    "import math\n",
    " \n",
    "a = float(input('Digite o valor para A: '))\n",
    "if a != 0:  \n",
    "    b = float(input('Digite o valor para B: '))\n",
    "    c = float(input('Digite o valor para C: '))\n",
    "    \n",
    "    delta = b * b - 4 * a * c\n",
    "    \n",
    "    if delta < 0:\n",
    "        print('A equação não possui raizes reais')\n",
    "\n",
    "    elif delta == 0:\n",
    "        raiz = (-1 * b + math.sqrt(delta)) / (2 * a)\n",
    "        print('A raiz da equação é: ',raiz)\n",
    "\n",
    "    else:\n",
    "        raiz1 = (-1 * b + math.sqrt(delta)) / (2 * a)\n",
    "        raiz2 = (-1 * b - math.sqrt(delta)) / (2 * a)   \n",
    "        print ('As raizes são',raiz1,' e ',raiz2)\n",
    "else:\n",
    "    print('A equação não é do segundo grau')"
   ]
  },
  {
   "cell_type": "markdown",
   "metadata": {},
   "source": [
    "10 - Faça um Programa para um caixa eletrônico. O programa deverá perguntar ao\n",
    "usuário a valor do saque e depois informar quantas notas de cada valor serão\n",
    "fornecidas. As notas disponíveis serão as de 1, 5, 10, 50 e 100 reais. O valor mínimo é\n",
    "de 10 reais e o máximo de 600 reais. O programa não deve se preocupar com a\n",
    "quantidade de notas existentes na máquina.\n",
    "- Exemplo 1: Para sacar a quantia de 256 reais, o programa fornece duas notas de\n",
    "100, uma nota de 50, uma nota de 5 e uma nota de 1;\n",
    "- Exemplo 2: Para sacar a quantia de 399 reais, o programa fornece três notas de\n",
    "100, uma nota de 50, quatro notas de 10, uma nota de 5 e quatro notas de 1."
   ]
  },
  {
   "cell_type": "code",
   "execution_count": 11,
   "metadata": {},
   "outputs": [
    {
     "name": "stdout",
     "output_type": "stream",
     "text": [
      "Digite o valor do saque: 500\n",
      "Ao sacar 500 reais, voce receberá:\n",
      "5 notas de 100\n",
      "0 notas de 50\n",
      "0 notas de 20\n",
      "0 notas de 10\n",
      "0 notas de 5\n",
      "0 notas de 2\n",
      "0 notas de 1\n"
     ]
    }
   ],
   "source": [
    "from math import *\n",
    "from string import *\n",
    "\n",
    "saque = int(input('Digite o valor do saque: '))\n",
    "\n",
    "if saque < 10.0:\n",
    "    print('Valor incorreto, saque minimo permitido 10.0')\n",
    "\n",
    "elif saque > 600:\n",
    "    print('Valor incorreto, saque maximo permitido 600.0')\n",
    "    \n",
    "else:\n",
    "    n100 = int(saque / 100)\n",
    "    resto = saque % 100\n",
    "\n",
    "    n50 = int(resto / 50)\n",
    "    resto = resto % 50\n",
    "\n",
    "    n20 = int(resto / 20)\n",
    "    resto = resto % 20\n",
    "\n",
    "    n10 = int(resto / 10)\n",
    "    resto = resto % 10\n",
    "\n",
    "    n5 = int(resto / 5)\n",
    "    resto = resto % 5\n",
    "\n",
    "    n2 = int(resto / 2)\n",
    "    resto = resto % 2\n",
    "\n",
    "    n1 = int(resto / 1)\n",
    "    resto = resto % 1\n",
    "\n",
    "    print ('Ao sacar', saque, 'reais, voce receberá:')\n",
    "    print (n100, 'notas de 100')\n",
    "    print (n50, 'notas de 50')\n",
    "    print (n20, 'notas de 20')\n",
    "    print (n10, 'notas de 10')\n",
    "    print (n5, 'notas de 5')\n",
    "    print (n2, 'notas de 2')\n",
    "    print (n1, 'notas de 1')\n",
    "\n",
    "\n",
    "\n"
   ]
  },
  {
   "cell_type": "markdown",
   "metadata": {},
   "source": [
    "11 - Faça um programa que faça 5 perguntas para uma pessoa sobre um crime. As\n",
    "perguntas são:\n",
    "\"Telefonou para a vítima?\"\n",
    "\"Esteve no local do crime?\"\n",
    "\"Mora perto da vítima?\"\n",
    "\"Devia para a vítima?\"\n",
    "\"Já trabalhou com a vítima?\"\n",
    "O programa deve no final emitir uma classificação sobre a participação da pessoa no\n",
    "crime. Se a pessoa responder positivamente a 2 questões ela deve ser classificada\n",
    "como \"Suspeita\", entre 3 e 4 como \"Cúmplice\" e 5 como \"Assassino\". Caso contrário,\n",
    "ele será classificado como \"Inocente\"."
   ]
  },
  {
   "cell_type": "code",
   "execution_count": 12,
   "metadata": {},
   "outputs": [
    {
     "name": "stdout",
     "output_type": "stream",
     "text": [
      "Telefonou para a vítima? - responda sim ou não: sim\n",
      "Esteve no local do crime? - responda sim ou não: sim\n",
      "Mora perto da vítima? - responda sim ou não: não\n",
      "Devia para a vítima? - responda sim ou não: não\n",
      "Já trabalhou com a vítima? - responda sim ou não: sim\n",
      "Cumplice\n"
     ]
    }
   ],
   "source": [
    "p1 = input('Telefonou para a vítima? - responda sim ou não: ')\n",
    "p2 = input('Esteve no local do crime? - responda sim ou não: ')\n",
    "p3 = input('Mora perto da vítima? - responda sim ou não: ')\n",
    "p4 = input('Devia para a vítima? - responda sim ou não: ')\n",
    "p5 = input('Já trabalhou com a vítima? - responda sim ou não: ')\n",
    "\n",
    "if p1 == 'sim':\n",
    "    p1 = 1\n",
    "elif p1 == 'não':\n",
    "    p1 = 0\n",
    "else:\n",
    "    print('valor incorreto')\n",
    "    \n",
    "if p2 == 'sim':\n",
    "    p2 = 1\n",
    "elif p2 == 'não':\n",
    "    p2 = 0\n",
    "else:\n",
    "    print('valor incorreto')\n",
    "\n",
    "if p3 == 'sim':\n",
    "    p3 = 1\n",
    "elif p3 == 'não':\n",
    "    p3 = 0\n",
    "else:\n",
    "    print('valor incorreto')\n",
    "    \n",
    "if p4 == 'sim':\n",
    "    p4 = 1\n",
    "elif p4 == 'não':\n",
    "    p4 = 0\n",
    "else:\n",
    "    print('valor incorreto') \n",
    "    \n",
    "if p5 == 'sim':\n",
    "    p5 = 1\n",
    "elif p5 == 'não':\n",
    "    p5 = 0\n",
    "else:\n",
    "    print('valor incorreto')  \n",
    "    \n",
    "resultado = p1 + p2 + p3 + p4 + p5   \n",
    "if resultado == 2:\n",
    "    print('Suspeita')\n",
    "elif resultado == 3 or resultado == 4:\n",
    "    print('Cumplice')\n",
    "elif resultado == 5:\n",
    "    print('Assassino')\n",
    "else:\n",
    "    print('Inocente')\n"
   ]
  },
  {
   "cell_type": "markdown",
   "metadata": {},
   "source": [
    "12 - Uma fruteira está vendendo frutas com a seguinte tabela de preços:\n",
    "Até 5 Kg Acima de 5 Kg\n",
    "Morango R$ 2,50 por Kg R$ 2,20 por Kg\n",
    "Maçã R$ 1,80 por Kg R$ 1,50 por Kg\n",
    "Se o cliente comprar mais de 8 Kg em frutas ou o valor total da compra ultrapassar\n",
    "R$ 25,00, receberá ainda um desconto de 10% sobre este total. Escreva um\n",
    "algoritmo para ler a quantidade (em Kg) de morangos e a quantidade (em Kg) de\n",
    "maças adquiridas e escreva o valor a ser pago pelo cliente."
   ]
  },
  {
   "cell_type": "code",
   "execution_count": null,
   "metadata": {},
   "outputs": [],
   "source": []
  },
  {
   "cell_type": "markdown",
   "metadata": {},
   "source": [
    "13 - Faça um programa que peça uma nota, entre zero e dez. Mostre uma mensagem\n",
    "caso o valor seja inválido e continue pedindo até que o usuário informe um valor\n",
    "válido."
   ]
  },
  {
   "cell_type": "code",
   "execution_count": null,
   "metadata": {},
   "outputs": [],
   "source": [
    "lista = [0,1,2,3,4,5,6,7,8,9,10]\n",
    "x = int(input('digite uma nota entre zero e dez: '))\n",
    "for num in lista:\n",
    "    if num == x:\n",
    "        print('valor entrado na lista')\n",
    "    x = int(input('digite uma nota entre zero e dez: '))\n",
    "        "
   ]
  },
  {
   "cell_type": "code",
   "execution_count": null,
   "metadata": {},
   "outputs": [],
   "source": [
    "lista = [1,2,3,4,5]\n",
    "for item in lista:\n",
    "    print(item)\n",
    "    "
   ]
  },
  {
   "cell_type": "markdown",
   "metadata": {},
   "source": [
    "14 - Faça um programa que leia 5 números e informe o maior número."
   ]
  },
  {
   "cell_type": "code",
   "execution_count": 2,
   "metadata": {},
   "outputs": [
    {
     "name": "stdout",
     "output_type": "stream",
     "text": [
      "numero 1: 2\n",
      "numero 2: 12\n",
      "numero 3: 5\n",
      "numero 4: 6\n",
      "numero 5: 9\n",
      "12\n"
     ]
    }
   ],
   "source": [
    "n1 = int(input('numero 1: '))\n",
    "n2 = int(input('numero 2: '))\n",
    "n3 = int(input('numero 3: '))\n",
    "n4 = int(input('numero 4: '))\n",
    "n5 = int(input('numero 5: '))\n",
    "\n",
    "lista = [n1,n2,n3,n4,n5]\n",
    "\n",
    "maior = max(lista)\n",
    "print(maior)\n"
   ]
  },
  {
   "cell_type": "markdown",
   "metadata": {},
   "source": [
    "15 - Faça um programa que leia 5 números e informe a soma e a média dos números."
   ]
  },
  {
   "cell_type": "code",
   "execution_count": 4,
   "metadata": {},
   "outputs": [
    {
     "name": "stdout",
     "output_type": "stream",
     "text": [
      "numero 1: 2\n",
      "numero 2: 6\n",
      "numero 3: 8\n",
      "numero 4: 9\n",
      "numero 5: 1\n",
      "Soma:  26 \n",
      "Media:  5.2\n"
     ]
    }
   ],
   "source": [
    "n1 = int(input('numero 1: '))\n",
    "n2 = int(input('numero 2: '))\n",
    "n3 = int(input('numero 3: '))\n",
    "n4 = int(input('numero 4: '))\n",
    "n5 = int(input('numero 5: '))\n",
    "\n",
    "soma = n1 + n2 + n3 + n4 + n5\n",
    "media = soma / 5\n",
    "\n",
    "print('Soma: ',soma,\n",
    "     '\\nMedia: ',media)"
   ]
  },
  {
   "cell_type": "markdown",
   "metadata": {},
   "source": [
    "16 - Faça um programa que imprima na tela apenas os números ímpares entre 1 e 50."
   ]
  },
  {
   "cell_type": "code",
   "execution_count": 1,
   "metadata": {},
   "outputs": [
    {
     "name": "stdout",
     "output_type": "stream",
     "text": [
      "1\n",
      "3\n",
      "5\n",
      "7\n",
      "9\n",
      "11\n",
      "13\n",
      "15\n",
      "17\n",
      "19\n",
      "21\n",
      "23\n",
      "25\n",
      "27\n",
      "29\n",
      "31\n",
      "33\n",
      "35\n",
      "37\n",
      "39\n",
      "41\n",
      "43\n",
      "45\n",
      "47\n",
      "49\n"
     ]
    }
   ],
   "source": [
    "for num in range(50):\n",
    "    if num%2 != 0:\n",
    "        print(num)"
   ]
  },
  {
   "cell_type": "markdown",
   "metadata": {},
   "source": [
    "18 - A série de Fibonacci é formada pela seqüência 1,1,2,3,5,8,13,21,34,55,... Faça um\n",
    "programa capaz de gerar a série até o n−ésimo termo."
   ]
  },
  {
   "cell_type": "code",
   "execution_count": 30,
   "metadata": {},
   "outputs": [
    {
     "name": "stdout",
     "output_type": "stream",
     "text": [
      "Digite o valor: 10\n",
      "1\n",
      "2\n",
      "4\n",
      "8\n"
     ]
    }
   ],
   "source": [
    "valor = int(input(\"Digite o valor: \"))\n",
    "a = 0\n",
    "b = 1\n",
    "while b < valor:\n",
    "    print (b)\n",
    "    a = b\n",
    "    b = a+b"
   ]
  },
  {
   "cell_type": "markdown",
   "metadata": {},
   "source": [
    "19 - Faça um programa que calcule o fatorial de um número inteiro fornecido pelo\n",
    "usuário. Ex.: 5!=5.4.3.2.1=120"
   ]
  },
  {
   "cell_type": "code",
   "execution_count": 33,
   "metadata": {},
   "outputs": [
    {
     "name": "stdout",
     "output_type": "stream",
     "text": [
      "Insira um numero natural4\n",
      "O fatorial de n eh: 24.0\n"
     ]
    }
   ],
   "source": [
    "def fatorial(n):\n",
    "    if n <=1: \n",
    "        return 1\n",
    "    else:\n",
    "        return n*fatorial(n-1) \n",
    "    \n",
    "n = float(input(\"Insira um numero natural\"))\n",
    "fatorial(n)\n",
    "print ('O fatorial de n eh:', fatorial(n))"
   ]
  },
  {
   "cell_type": "markdown",
   "metadata": {},
   "source": [
    "20 - O Sr. Manoel Joaquim possui uma grande loja de artigos de R$ 1,99, com cerca\n",
    "de 10 caixas. Para agilizar o cálculo de quanto cada cliente deve pagar ele\n",
    "desenvolveu um tabela que contém o número de itens que o cliente comprou e ao\n",
    "lado o valor da conta. Desta forma a atendente do caixa precisa apenas contar\n",
    "quantos itens o cliente está levando e olhar na tabela de preços. Você foi contratado\n",
    "para desenvolver o programa que monta esta tabela de preços, que conterá os\n",
    "preços de 1 até 50 produtos, conforme o exemplo abaixo:\n",
    "Lojas Quase Dois - Tabela de preços\n",
    "1 - R$ 1.99\n",
    "2 - R$ 3.98\n",
    "...\n",
    "50 - R$ 99.50"
   ]
  },
  {
   "cell_type": "code",
   "execution_count": null,
   "metadata": {},
   "outputs": [],
   "source": []
  },
  {
   "cell_type": "markdown",
   "metadata": {},
   "source": [
    "21- O Sr. Manoel Joaquim acaba de adquirir uma panificadora e pretende implantar\n",
    "a metodologia da tabelinha, que já é um sucesso na sua loja de 1,99. Você foi\n",
    "contratado para desenvolver o programa que monta a tabela de preços de pães, de\n",
    "1 até 50 pães, a partir do preço do pão informado pelo usuário, conforme o exemplo\n",
    "abaixo:\n",
    "Preço do pão: R$ 0.18\n",
    "Panificadora Pão de Ontem - Tabela de preços\n",
    "1 - R$ 0.18\n",
    "2 - R$ 0.36\n",
    "...\n",
    "50 - R$ 9.00"
   ]
  },
  {
   "cell_type": "code",
   "execution_count": null,
   "metadata": {},
   "outputs": [],
   "source": []
  },
  {
   "cell_type": "markdown",
   "metadata": {},
   "source": [
    "22 - O Sr. Manoel Joaquim expandiu seus negócios para além dos negócios de 1,99 e\n",
    "agora possui uma loja de conveniências. Faça um programa que implemente uma\n",
    "caixa registradora rudimentar. O programa deverá receber um número\n",
    "desconhecido de valores referentes aos preços das mercadorias. Um valor zero deve\n",
    "ser informado pelo operador para indicar o final da compra. O programa deve então\n",
    "mostrar o total da compra e perguntar o valor em dinheiro que o cliente forneceu,\n",
    "para então calcular e mostrar o valor do troco. Após esta operação, o programa\n",
    "deverá voltar ao ponto inicial, para registrar a próxima compra. A saída deve ser\n",
    "conforme o exemplo abaixo:\n",
    "Lojas Tabajara\n",
    "Produto 1: R$ 2.20\n",
    "Produto 2: R$ 5.80\n",
    "Produto 3: R$ 0\n",
    "Total: R$ 9.00\n",
    "Dinheiro: R$ 20.00"
   ]
  },
  {
   "cell_type": "code",
   "execution_count": null,
   "metadata": {},
   "outputs": [],
   "source": []
  },
  {
   "cell_type": "markdown",
   "metadata": {},
   "source": [
    "23 - Foi feita uma estatística em cinco cidades brasileiras para coletar dados sobre\n",
    "acidentes de trânsito. Foram obtidos os seguintes dados:\n",
    "- Código da cidade;\n",
    "- Número de veículos de passeio (em 1999);\n",
    "- Número de acidentes de trânsito com vítimas (em 1999). Deseja-se saber:\n",
    "- Qual o maior e menor índice de acidentes de transito e a que cidade pertence;\n",
    "- Qual a média de veículos nas cinco cidades juntas;\n",
    "- Qual a média de acidentes de trânsito nas cidades com menos de 2.000 veículos de\n",
    "passeio."
   ]
  },
  {
   "cell_type": "code",
   "execution_count": 17,
   "metadata": {},
   "outputs": [
    {
     "name": "stdout",
     "output_type": "stream",
     "text": [
      "maior índice de acidentes de transito e a que cidade pertence 5000.0 na cidade 005\n",
      "menor índice de acidentes de transito e a que cidade pertence 1000.0 na cidade 001\n",
      "média de veículos nas cinco cidades juntas é:  30000.0\n",
      "média de acidentes de trânsito nas cidades com menos de 2.000 veículos de passeio é: 3000.0\n"
     ]
    }
   ],
   "source": [
    "codCidade1 = '001'\n",
    "codCidade2 = '002'\n",
    "codCidade3 = '003'\n",
    "codCidade4 = '004'\n",
    "codCidade5 = '005'\n",
    "\n",
    "nVeiculos1 = 10000.0\n",
    "nVeiculos2 = 20000.0\n",
    "nVeiculos3 = 30000.0\n",
    "nVeiculos4 = 40000.0\n",
    "nVeiculos5 = 50000.0\n",
    "\n",
    "nAcidente1 = 1000.0\n",
    "nAcidente2 = 2000.0\n",
    "nAcidente3 = 3000.0\n",
    "nAcidente4 = 4000.0\n",
    "nAcidente5 = 5000.0\n",
    "\n",
    "lista = [nAcidente1,nAcidente2,nAcidente3,nAcidente4,nAcidente5]\n",
    "\n",
    "maior = max(lista)\n",
    "print('maior índice de acidentes de transito e a que cidade pertence',maior ,'na cidade 005')\n",
    "\n",
    "menor = min(lista)\n",
    "print('menor índice de acidentes de transito e a que cidade pertence',menor ,'na cidade 001')\n",
    "\n",
    "mediaVeiculos = (nVeiculos1 + nVeiculos2 + nVeiculos3 + nVeiculos4 + nVeiculos5) / 5\n",
    "print('média de veículos nas cinco cidades juntas é: ', mediaVeiculos)\n",
    "\n",
    "mediaAciTra = (nAcidente1 + nAcidente2 + nAcidente3 + nAcidente4 + nAcidente5) / 5\n",
    "print('média de acidentes de trânsito nas cidades com menos de 2.000 veículos de passeio é:', mediaAciTra)"
   ]
  },
  {
   "cell_type": "markdown",
   "metadata": {},
   "source": [
    "24 - Faça um programa que receba o valor de uma dívida e mostre uma tabela com\n",
    "os seguintes dados: valor da dívida, valor dos juros, quantidade de parcelas e valor\n",
    "da parcela.\n",
    "Os juros e a quantidade de parcelas seguem a tabela abaixo:\n",
    "Quantidade de Parcelas % de Juros sobre o valor inicial da dívida\n",
    "1 0\n",
    "3 10\n",
    "6 15\n",
    "9 20\n",
    "12 25\n",
    "Exemplo de saída do programa:\n",
    "Valor da Dívida Valor dos Juros Quantidade de Parcelas Valor da Parcela\n",
    "R$ 1.000,00 0 1 R$ 1.000,00\n",
    "R$ 1.100,00 100 3 R$ 366,00\n",
    "R$ 1.150,00 150 6 R$ 191,67"
   ]
  },
  {
   "cell_type": "code",
   "execution_count": null,
   "metadata": {},
   "outputs": [],
   "source": []
  },
  {
   "cell_type": "markdown",
   "metadata": {},
   "source": [
    "25 - Faça um programa que mostre os n termos da Série a seguir:\n",
    "S = 1/1 + 2/3 + 3/5 + 4/7 + 5/9 + ... + n/m.\n",
    "Imprima no final a soma da série."
   ]
  },
  {
   "cell_type": "code",
   "execution_count": null,
   "metadata": {},
   "outputs": [],
   "source": []
  }
 ],
 "metadata": {
  "kernelspec": {
   "display_name": "Python 3",
   "language": "python",
   "name": "python3"
  },
  "language_info": {
   "codemirror_mode": {
    "name": "ipython",
    "version": 3
   },
   "file_extension": ".py",
   "mimetype": "text/x-python",
   "name": "python",
   "nbconvert_exporter": "python",
   "pygments_lexer": "ipython3",
   "version": "3.6.4"
  }
 },
 "nbformat": 4,
 "nbformat_minor": 2
}
